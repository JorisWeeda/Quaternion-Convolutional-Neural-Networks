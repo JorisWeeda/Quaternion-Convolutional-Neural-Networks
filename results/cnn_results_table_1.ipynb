{
  "nbformat": 4,
  "nbformat_minor": 0,
  "metadata": {
    "colab": {
      "provenance": []
    },
    "kernelspec": {
      "name": "python3",
      "display_name": "Python 3"
    },
    "language_info": {
      "name": "python"
    },
    "accelerator": "GPU",
    "gpuClass": "standard"
  },
  "cells": [
    {
      "cell_type": "markdown",
      "source": [
        "# Reproduction Table 1, CNN\n",
        "In this notebook the CNN result of table 1 is reproduced using PyTorch.\n",
        "\n",
        "\n"
      ],
      "metadata": {
        "id": "5NodS0rcy0_P"
      }
    },
    {
      "cell_type": "code",
      "execution_count": null,
      "metadata": {
        "id": "A0bUOOkH8od2",
        "colab": {
          "base_uri": "https://localhost:8080/"
        },
        "outputId": "19d0ac46-d892-49d9-e82b-d04bd51e91fb"
      },
      "outputs": [
        {
          "output_type": "stream",
          "name": "stdout",
          "text": [
            "Python 3.9.16\n",
            "Looking in indexes: https://pypi.org/simple, https://us-python.pkg.dev/colab-wheels/public/simple/\n",
            "Requirement already satisfied: cifar10 in /usr/local/lib/python3.9/dist-packages (1.0.0)\n",
            "Requirement already satisfied: requests in /usr/local/lib/python3.9/dist-packages (from cifar10) (2.27.1)\n",
            "Requirement already satisfied: numpy in /usr/local/lib/python3.9/dist-packages (from cifar10) (1.22.4)\n",
            "Requirement already satisfied: tqdm in /usr/local/lib/python3.9/dist-packages (from cifar10) (4.65.0)\n",
            "Requirement already satisfied: idna<4,>=2.5 in /usr/local/lib/python3.9/dist-packages (from requests->cifar10) (3.4)\n",
            "Requirement already satisfied: certifi>=2017.4.17 in /usr/local/lib/python3.9/dist-packages (from requests->cifar10) (2022.12.7)\n",
            "Requirement already satisfied: charset-normalizer~=2.0.0 in /usr/local/lib/python3.9/dist-packages (from requests->cifar10) (2.0.12)\n",
            "Requirement already satisfied: urllib3<1.27,>=1.21.1 in /usr/local/lib/python3.9/dist-packages (from requests->cifar10) (1.26.15)\n",
            "Looking in indexes: https://pypi.org/simple, https://us-python.pkg.dev/colab-wheels/public/simple/\n",
            "Requirement already satisfied: imageio in /usr/local/lib/python3.9/dist-packages (2.25.1)\n",
            "Requirement already satisfied: numpy in /usr/local/lib/python3.9/dist-packages (1.22.4)\n",
            "Requirement already satisfied: scipy in /usr/local/lib/python3.9/dist-packages (1.10.1)\n",
            "Requirement already satisfied: pillow>=8.3.2 in /usr/local/lib/python3.9/dist-packages (from imageio) (8.4.0)\n",
            "Looking in indexes: https://pypi.org/simple, https://us-python.pkg.dev/colab-wheels/public/simple/\n",
            "Collecting git+https://github.com/Orkis-Research/Pytorch-Quaternion-Neural-Networks\n",
            "  Cloning https://github.com/Orkis-Research/Pytorch-Quaternion-Neural-Networks to /tmp/pip-req-build-f2d4i7a4\n",
            "  Running command git clone --filter=blob:none --quiet https://github.com/Orkis-Research/Pytorch-Quaternion-Neural-Networks /tmp/pip-req-build-f2d4i7a4\n",
            "  Resolved https://github.com/Orkis-Research/Pytorch-Quaternion-Neural-Networks to commit 28caa7cde240e354fd7b87280450fd233cd494c3\n",
            "  Preparing metadata (setup.py) ... \u001b[?25l\u001b[?25hdone\n",
            "Looking in indexes: https://pypi.org/simple, https://us-python.pkg.dev/colab-wheels/public/simple/\n",
            "Requirement already satisfied: torchinfo in /usr/local/lib/python3.9/dist-packages (1.7.2)\n"
          ]
        }
      ],
      "source": [
        " # run this cell to download the right packages (only needed once)\n",
        "!python --version\n",
        "\n",
        "!pip install cifar10\n",
        "!pip install imageio numpy scipy    \n",
        "!pip install git+https://github.com/Orkis-Research/Pytorch-Quaternion-Neural-Networks\n",
        "!pip install torchinfo\n"
      ]
    },
    {
      "cell_type": "code",
      "source": [
        "import torch\n",
        "import torchvision\n",
        "\n",
        "import numpy as np\n",
        "import torch.nn as nn\n",
        "import torch.nn.functional as F\n",
        "\n",
        "from torchsummary import summary\n",
        "from torch.utils.data import DataLoader\n",
        "from torchinfo import summary as summary_info\n",
        "from torchvision.transforms import transforms\n",
        "from torchvision import datasets\n",
        "\n",
        "device = torch.device('cuda' if torch.cuda.is_available else 'cpu')"
      ],
      "metadata": {
        "id": "FrEo-nMWxcun"
      },
      "execution_count": null,
      "outputs": []
    },
    {
      "cell_type": "code",
      "source": [
        "%%time\n",
        "\n",
        "# import and download the CIFAR10 dataset\n",
        "batch_size = 32\n",
        "\n",
        "transform = transforms.Compose([transforms.ToTensor(), transforms.Normalize((.5,.5,.5),(.5,.5,.5))])                                                  \n",
        "\n",
        "transform_train = transforms.Compose([transforms.ToTensor()])\n",
        "transform_test = transforms.Compose([transforms.ToTensor()])\n",
        "\n",
        "train_set = datasets.CIFAR10(root='./data', train=True, download=True, transform=transform_train)\n",
        "test_set = datasets.CIFAR10(root='./data', train=False, download=True, transform=transform_test)\n",
        "\n",
        "train_loader = torch.utils.data.DataLoader(train_set, batch_size=batch_size, shuffle=True, num_workers=2)\n",
        "test_loader = torch.utils.data.DataLoader(test_set, batch_size=batch_size, shuffle=False, num_workers=2)\n",
        "\n",
        "\n",
        "classes = ('plane','car','bird','cat','deer','dog','frog','horse','ship','truck')"
      ],
      "metadata": {
        "colab": {
          "base_uri": "https://localhost:8080/"
        },
        "id": "GVdrTE-vt45z",
        "outputId": "0c9ee8f0-71c4-4a80-8c18-271275c946ee"
      },
      "execution_count": null,
      "outputs": [
        {
          "output_type": "stream",
          "name": "stdout",
          "text": [
            "Files already downloaded and verified\n",
            "Files already downloaded and verified\n",
            "CPU times: user 1.35 s, sys: 301 ms, total: 1.65 s\n",
            "Wall time: 1.69 s\n"
          ]
        }
      ]
    },
    {
      "cell_type": "code",
      "source": [
        "class ConvNet(nn.Module):\n",
        "    def __init__(self, in_channels, hidden_channels, out_features, kernel_size):\n",
        "        super(ConvNet, self).__init__()\n",
        "        self.conv_1 = nn.Conv2d(in_channels, hidden_channels[0], kernel_size)\n",
        "        self.conv_2 = nn.Conv2d(hidden_channels[0], hidden_channels[1], kernel_size)\n",
        "\n",
        "        self.pool_1 = nn.MaxPool2d(2, 2)\n",
        "        self.dropout_1 = nn.Dropout(0.25)\n",
        "\n",
        "        self.conv_3 = nn.Conv2d(hidden_channels[1], hidden_channels[2], kernel_size)\n",
        "        self.conv_4 = nn.Conv2d(hidden_channels[2], hidden_channels[3], kernel_size)\n",
        "\n",
        "        self.pool_2 = nn.MaxPool2d(2, 2)\n",
        "        self.dropout_2 = nn.Dropout(0.25)\n",
        "\n",
        "        self.fc_1 = nn.Linear(4608, 512)\n",
        "        self.fc_2 = nn.Linear(512, out_features)\n",
        "\n",
        "        self.dropout_3 = nn.Dropout(0.5)\n",
        "        self.sm = nn.Softmax(dim=1)\n",
        "\n",
        "    def forward(self,x):\n",
        "        x = F.relu(self.conv_1(x))\n",
        "        x = F.relu(self.conv_2(x))\n",
        "        x = self.pool_1(x)\n",
        "        x = self.dropout_1(x)\n",
        "\n",
        "        x = F.relu(self.conv_3(x))\n",
        "        x = F.relu(self.conv_4(x))\n",
        "        x = self.pool_2(x)\n",
        "        x = self.dropout_2(x)\n",
        "\n",
        "        x = torch.flatten(x, start_dim=1) \n",
        "\n",
        "        x = F.relu(self.fc_1(x))\n",
        "        x = self.dropout_3(x)\n",
        "        x = self.fc_2(x)\n",
        "        x = self.sm(x)\n",
        "\n",
        "        return x\n",
        "\n",
        "\n",
        "# Model parameters\n",
        "in_channels = 3\n",
        "hidden_channels = [64, 128, 256, 512]\n",
        "out_features = 10\n",
        "kernel_size = 4\n",
        "\n",
        "cnn = ConvNet(in_channels, hidden_channels, out_features, kernel_size)\n",
        "cnn = cnn.cuda()\n",
        "print(\"Number of trainable parameters: \", sum(p.numel() for p in cnn.parameters() if p.requires_grad))\n",
        "\n",
        "# print model summary\n",
        "summary(cnn, input_size=(in_channels, 32, 32), batch_size=batch_size, device=device.type)\n"
      ],
      "metadata": {
        "colab": {
          "base_uri": "https://localhost:8080/"
        },
        "id": "-7PDPS208mHL",
        "outputId": "43235b64-9aa0-4c35-c598-c3a780f3c0b4"
      },
      "execution_count": null,
      "outputs": [
        {
          "output_type": "stream",
          "name": "stdout",
          "text": [
            "Number of trainable parameters:  5121482\n",
            "----------------------------------------------------------------\n",
            "        Layer (type)               Output Shape         Param #\n",
            "================================================================\n",
            "            Conv2d-1           [32, 64, 29, 29]           3,136\n",
            "            Conv2d-2          [32, 128, 26, 26]         131,200\n",
            "         MaxPool2d-3          [32, 128, 13, 13]               0\n",
            "           Dropout-4          [32, 128, 13, 13]               0\n",
            "            Conv2d-5          [32, 256, 10, 10]         524,544\n",
            "            Conv2d-6            [32, 512, 7, 7]       2,097,664\n",
            "         MaxPool2d-7            [32, 512, 3, 3]               0\n",
            "           Dropout-8            [32, 512, 3, 3]               0\n",
            "            Linear-9                  [32, 512]       2,359,808\n",
            "          Dropout-10                  [32, 512]               0\n",
            "           Linear-11                   [32, 10]           5,130\n",
            "          Softmax-12                   [32, 10]               0\n",
            "================================================================\n",
            "Total params: 5,121,482\n",
            "Trainable params: 5,121,482\n",
            "Non-trainable params: 0\n",
            "----------------------------------------------------------------\n",
            "Input size (MB): 0.38\n",
            "Forward/backward pass size (MB): 59.71\n",
            "Params size (MB): 19.54\n",
            "Estimated Total Size (MB): 79.62\n",
            "----------------------------------------------------------------\n"
          ]
        }
      ]
    },
    {
      "cell_type": "code",
      "source": [
        "%%time\n",
        "num_epochs = 80\n",
        "learning_rate = 0.0001\n",
        "learning_rate_decay = 1e-6\n",
        "\n",
        "criterion = nn.CrossEntropyLoss()\n",
        "optimizer = torch.optim.RMSprop(cnn.parameters(),lr=learning_rate, weight_decay=learning_rate_decay)\n",
        "\n",
        "n_total_step = len(train_loader)\n",
        "        \n",
        "for epoch in range(num_epochs):\n",
        "  for i,(images, labels) in enumerate(train_loader):\n",
        "      images = images.cuda()\n",
        "      labels = labels.cuda()\n",
        "      outputs = cnn(images)\n",
        "      loss = criterion(outputs, labels)\n",
        "      \n",
        "      # Backpropagation\n",
        "      optimizer.zero_grad()\n",
        "      loss.backward()\n",
        "      optimizer.step()\n",
        "        \n",
        "  print(f\"Epoch [{epoch+1}/{num_epochs}], Last loss: {loss.item():.4f}\")\n",
        "    \n",
        "print(\"Finished training\")    "
      ],
      "metadata": {
        "id": "KsEvT72jqaPO",
        "colab": {
          "base_uri": "https://localhost:8080/"
        },
        "outputId": "77819cca-9b62-4e1a-e09e-7275fa6a8889"
      },
      "execution_count": null,
      "outputs": [
        {
          "output_type": "stream",
          "name": "stdout",
          "text": [
            "Epoch [1/80], Last loss: 2.0785\n",
            "Epoch [2/80], Last loss: 2.2880\n",
            "Epoch [3/80], Last loss: 2.0752\n",
            "Epoch [4/80], Last loss: 1.8501\n",
            "Epoch [5/80], Last loss: 1.8796\n",
            "Epoch [6/80], Last loss: 1.8211\n",
            "Epoch [7/80], Last loss: 1.7624\n",
            "Epoch [8/80], Last loss: 1.8702\n",
            "Epoch [9/80], Last loss: 1.8104\n",
            "Epoch [10/80], Last loss: 1.7699\n",
            "Epoch [11/80], Last loss: 1.8345\n",
            "Epoch [12/80], Last loss: 1.8089\n",
            "Epoch [13/80], Last loss: 1.7506\n",
            "Epoch [14/80], Last loss: 1.8241\n",
            "Epoch [15/80], Last loss: 1.6014\n",
            "Epoch [16/80], Last loss: 1.8853\n",
            "Epoch [17/80], Last loss: 1.4983\n",
            "Epoch [18/80], Last loss: 1.6422\n",
            "Epoch [19/80], Last loss: 1.8272\n",
            "Epoch [20/80], Last loss: 1.5766\n",
            "Epoch [21/80], Last loss: 1.6398\n",
            "Epoch [22/80], Last loss: 1.9576\n",
            "Epoch [23/80], Last loss: 1.6632\n",
            "Epoch [24/80], Last loss: 1.6935\n",
            "Epoch [25/80], Last loss: 1.4854\n",
            "Epoch [26/80], Last loss: 1.6618\n",
            "Epoch [27/80], Last loss: 1.8221\n",
            "Epoch [28/80], Last loss: 1.8102\n",
            "Epoch [29/80], Last loss: 1.5862\n",
            "Epoch [30/80], Last loss: 1.6905\n",
            "Epoch [31/80], Last loss: 1.7193\n",
            "Epoch [32/80], Last loss: 1.5237\n",
            "Epoch [33/80], Last loss: 1.6457\n",
            "Epoch [34/80], Last loss: 1.4837\n",
            "Epoch [35/80], Last loss: 1.5088\n",
            "Epoch [36/80], Last loss: 1.5921\n",
            "Epoch [37/80], Last loss: 1.6996\n",
            "Epoch [38/80], Last loss: 1.5499\n",
            "Epoch [39/80], Last loss: 1.6473\n",
            "Epoch [40/80], Last loss: 1.5839\n",
            "Epoch [41/80], Last loss: 1.7715\n",
            "Epoch [42/80], Last loss: 1.5863\n",
            "Epoch [43/80], Last loss: 1.6933\n",
            "Epoch [44/80], Last loss: 1.5847\n",
            "Epoch [45/80], Last loss: 1.6158\n",
            "Epoch [46/80], Last loss: 1.5434\n",
            "Epoch [47/80], Last loss: 1.6774\n",
            "Epoch [48/80], Last loss: 1.5680\n",
            "Epoch [49/80], Last loss: 1.6495\n",
            "Epoch [50/80], Last loss: 1.6579\n",
            "Epoch [51/80], Last loss: 1.5342\n",
            "Epoch [52/80], Last loss: 1.5310\n",
            "Epoch [53/80], Last loss: 1.5272\n",
            "Epoch [54/80], Last loss: 1.5238\n",
            "Epoch [55/80], Last loss: 1.5245\n",
            "Epoch [56/80], Last loss: 1.4941\n",
            "Epoch [57/80], Last loss: 1.5251\n",
            "Epoch [58/80], Last loss: 1.4612\n",
            "Epoch [59/80], Last loss: 1.5229\n",
            "Epoch [60/80], Last loss: 1.5796\n",
            "Epoch [61/80], Last loss: 1.7513\n",
            "Epoch [62/80], Last loss: 1.5286\n",
            "Epoch [63/80], Last loss: 1.6094\n",
            "Epoch [64/80], Last loss: 1.5238\n",
            "Epoch [65/80], Last loss: 1.5240\n",
            "Epoch [66/80], Last loss: 1.6485\n",
            "Epoch [67/80], Last loss: 1.5326\n",
            "Epoch [68/80], Last loss: 1.6010\n",
            "Epoch [69/80], Last loss: 1.5187\n",
            "Epoch [70/80], Last loss: 1.6429\n",
            "Epoch [71/80], Last loss: 1.4612\n",
            "Epoch [72/80], Last loss: 1.5237\n",
            "Epoch [73/80], Last loss: 1.4616\n",
            "Epoch [74/80], Last loss: 1.5267\n",
            "Epoch [75/80], Last loss: 1.5847\n",
            "Epoch [76/80], Last loss: 1.4612\n",
            "Epoch [77/80], Last loss: 1.6461\n",
            "Epoch [78/80], Last loss: 1.5237\n",
            "Epoch [79/80], Last loss: 1.4664\n",
            "Epoch [80/80], Last loss: 1.4641\n",
            "Finished training\n",
            "CPU times: user 34min 18s, sys: 1min 1s, total: 35min 19s\n",
            "Wall time: 39min 25s\n"
          ]
        }
      ]
    },
    {
      "cell_type": "code",
      "source": [
        "with torch.no_grad():\n",
        "    n_correct = 0\n",
        "    n_samples = 0\n",
        "\n",
        "    n_class_correct = [0 for i in range(10)]\n",
        "    n_class_sample = [0 for i in range(10)]\n",
        "\n",
        "    for images, labels in test_loader:\n",
        "        images = images.cuda()\n",
        "        labels = labels.cuda()\n",
        "        outputs = cnn(images)\n",
        "       \n",
        "\n",
        "        _, predicted = torch.max(outputs,1)\n",
        "        n_samples += labels.size(0)\n",
        "        n_correct += (predicted == labels).sum().item()\n",
        "\n",
        "        for i in range(labels.size(0)):\n",
        "            label = labels[i]\n",
        "            pred = predicted[i]\n",
        "            if(label==pred):\n",
        "                n_class_correct[label] += 1\n",
        "            n_class_sample[label] += 1\n",
        "\n",
        "    acc = 100 * n_correct / n_samples\n",
        "    print(f\"Accuracy of the network: {acc}%\")\n",
        "\n",
        "    for i in range(10):\n",
        "        acc = 100 * n_class_correct[i]/ n_class_sample[i]\n",
        "        print(f\"Accuracy of {classes[i]}: {acc} %\")"
      ],
      "metadata": {
        "id": "lbSO3cZzJegS",
        "colab": {
          "base_uri": "https://localhost:8080/"
        },
        "outputId": "e53d95c3-14d8-46ef-f643-6b6e46e2a10d"
      },
      "execution_count": null,
      "outputs": [
        {
          "output_type": "stream",
          "name": "stdout",
          "text": [
            "Accuracy of the network: 75.83%\n",
            "Accuracy of plane: 81.0 %\n",
            "Accuracy of car: 86.8 %\n",
            "Accuracy of bird: 71.9 %\n",
            "Accuracy of cat: 58.7 %\n",
            "Accuracy of deer: 77.9 %\n",
            "Accuracy of dog: 55.1 %\n",
            "Accuracy of frog: 82.2 %\n",
            "Accuracy of horse: 77.6 %\n",
            "Accuracy of ship: 84.9 %\n",
            "Accuracy of truck: 82.2 %\n"
          ]
        }
      ]
    }
  ]
}